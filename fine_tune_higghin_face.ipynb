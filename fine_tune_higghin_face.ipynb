{
 "cells": [
  {
   "cell_type": "code",
   "execution_count": null,
   "metadata": {
    "pycharm": {
     "is_executing": true
    }
   },
   "outputs": [
    {
     "name": "stdout",
     "output_type": "stream",
     "text": [
      "Requirement already satisfied: transformers in /home/user/anaconda3/envs/nlp_ex4/lib/python3.10/site-packages (4.25.1)\r\n",
      "Requirement already satisfied: datasets in /home/user/anaconda3/envs/nlp_ex4/lib/python3.10/site-packages (2.8.0)\r\n",
      "Collecting evaluate\r\n"
     ]
    }
   ],
   "source": [
    "!pip install transformers datasets evaluate\n",
    "!pip install sacrebleu"
   ]
  },
  {
   "cell_type": "code",
   "execution_count": 16,
   "metadata": {},
   "outputs": [
    {
     "name": "stderr",
     "output_type": "stream",
     "text": [
      "Found cached dataset opus_books (/home/user/.cache/huggingface/datasets/opus_books/en-fr/1.0.0/e8f950a4f32dc39b7f9088908216cd2d7e21ac35f893d04d39eb594746af2daf)\n"
     ]
    },
    {
     "data": {
      "text/plain": "  0%|          | 0/1 [00:00<?, ?it/s]",
      "application/vnd.jupyter.widget-view+json": {
       "version_major": 2,
       "version_minor": 0,
       "model_id": "31aa2b9a589c4d178bf2de658c77983e"
      }
     },
     "metadata": {},
     "output_type": "display_data"
    }
   ],
   "source": [
    "from datasets import load_dataset\n",
    "\n",
    "books = load_dataset(\"opus_books\", \"en-fr\")"
   ]
  },
  {
   "cell_type": "code",
   "execution_count": 17,
   "metadata": {},
   "outputs": [],
   "source": [
    "books = books[\"train\"].train_test_split(test_size=0.2)"
   ]
  },
  {
   "cell_type": "code",
   "execution_count": 18,
   "metadata": {},
   "outputs": [
    {
     "ename": "KeyboardInterrupt",
     "evalue": "",
     "output_type": "error",
     "traceback": [
      "\u001B[0;31m---------------------------------------------------------------------------\u001B[0m",
      "\u001B[0;31mKeyboardInterrupt\u001B[0m                         Traceback (most recent call last)",
      "Cell \u001B[0;32mIn[18], line 1\u001B[0m\n\u001B[0;32m----> 1\u001B[0m \u001B[43mbooks\u001B[49m[\u001B[38;5;124m\"\u001B[39m\u001B[38;5;124mtrain\u001B[39m\u001B[38;5;124m\"\u001B[39m][\u001B[38;5;241m0\u001B[39m]\n",
      "Cell \u001B[0;32mIn[18], line 1\u001B[0m\n\u001B[0;32m----> 1\u001B[0m \u001B[43mbooks\u001B[49m[\u001B[38;5;124m\"\u001B[39m\u001B[38;5;124mtrain\u001B[39m\u001B[38;5;124m\"\u001B[39m][\u001B[38;5;241m0\u001B[39m]\n",
      "File \u001B[0;32m/snap/pycharm-professional/319/plugins/python/helpers/pydev/_pydevd_bundle/pydevd_frame.py:747\u001B[0m, in \u001B[0;36mPyDBFrame.trace_dispatch\u001B[0;34m(self, frame, event, arg)\u001B[0m\n\u001B[1;32m    745\u001B[0m \u001B[38;5;66;03m# if thread has a suspend flag, we suspend with a busy wait\u001B[39;00m\n\u001B[1;32m    746\u001B[0m \u001B[38;5;28;01mif\u001B[39;00m info\u001B[38;5;241m.\u001B[39mpydev_state \u001B[38;5;241m==\u001B[39m STATE_SUSPEND:\n\u001B[0;32m--> 747\u001B[0m     \u001B[38;5;28;43mself\u001B[39;49m\u001B[38;5;241;43m.\u001B[39;49m\u001B[43mdo_wait_suspend\u001B[49m\u001B[43m(\u001B[49m\u001B[43mthread\u001B[49m\u001B[43m,\u001B[49m\u001B[43m \u001B[49m\u001B[43mframe\u001B[49m\u001B[43m,\u001B[49m\u001B[43m \u001B[49m\u001B[43mevent\u001B[49m\u001B[43m,\u001B[49m\u001B[43m \u001B[49m\u001B[43marg\u001B[49m\u001B[43m)\u001B[49m\n\u001B[1;32m    748\u001B[0m     \u001B[38;5;66;03m# No need to reset frame.f_trace to keep the same trace function.\u001B[39;00m\n\u001B[1;32m    749\u001B[0m     \u001B[38;5;28;01mreturn\u001B[39;00m \u001B[38;5;28mself\u001B[39m\u001B[38;5;241m.\u001B[39mtrace_dispatch\n",
      "File \u001B[0;32m/snap/pycharm-professional/319/plugins/python/helpers/pydev/_pydevd_bundle/pydevd_frame.py:144\u001B[0m, in \u001B[0;36mPyDBFrame.do_wait_suspend\u001B[0;34m(self, *args, **kwargs)\u001B[0m\n\u001B[1;32m    143\u001B[0m \u001B[38;5;28;01mdef\u001B[39;00m \u001B[38;5;21mdo_wait_suspend\u001B[39m(\u001B[38;5;28mself\u001B[39m, \u001B[38;5;241m*\u001B[39margs, \u001B[38;5;241m*\u001B[39m\u001B[38;5;241m*\u001B[39mkwargs):\n\u001B[0;32m--> 144\u001B[0m     \u001B[38;5;28;43mself\u001B[39;49m\u001B[38;5;241;43m.\u001B[39;49m\u001B[43m_args\u001B[49m\u001B[43m[\u001B[49m\u001B[38;5;241;43m0\u001B[39;49m\u001B[43m]\u001B[49m\u001B[38;5;241;43m.\u001B[39;49m\u001B[43mdo_wait_suspend\u001B[49m\u001B[43m(\u001B[49m\u001B[38;5;241;43m*\u001B[39;49m\u001B[43margs\u001B[49m\u001B[43m,\u001B[49m\u001B[43m \u001B[49m\u001B[38;5;241;43m*\u001B[39;49m\u001B[38;5;241;43m*\u001B[39;49m\u001B[43mkwargs\u001B[49m\u001B[43m)\u001B[49m\n",
      "File \u001B[0;32m/snap/pycharm-professional/319/plugins/python/helpers/pydev/pydevd.py:1160\u001B[0m, in \u001B[0;36mPyDB.do_wait_suspend\u001B[0;34m(self, thread, frame, event, arg, send_suspend_message, is_unhandled_exception)\u001B[0m\n\u001B[1;32m   1157\u001B[0m         from_this_thread\u001B[38;5;241m.\u001B[39mappend(frame_id)\n\u001B[1;32m   1159\u001B[0m \u001B[38;5;28;01mwith\u001B[39;00m \u001B[38;5;28mself\u001B[39m\u001B[38;5;241m.\u001B[39m_threads_suspended_single_notification\u001B[38;5;241m.\u001B[39mnotify_thread_suspended(thread_id, stop_reason):\n\u001B[0;32m-> 1160\u001B[0m     \u001B[38;5;28;43mself\u001B[39;49m\u001B[38;5;241;43m.\u001B[39;49m\u001B[43m_do_wait_suspend\u001B[49m\u001B[43m(\u001B[49m\u001B[43mthread\u001B[49m\u001B[43m,\u001B[49m\u001B[43m \u001B[49m\u001B[43mframe\u001B[49m\u001B[43m,\u001B[49m\u001B[43m \u001B[49m\u001B[43mevent\u001B[49m\u001B[43m,\u001B[49m\u001B[43m \u001B[49m\u001B[43marg\u001B[49m\u001B[43m,\u001B[49m\u001B[43m \u001B[49m\u001B[43msuspend_type\u001B[49m\u001B[43m,\u001B[49m\u001B[43m \u001B[49m\u001B[43mfrom_this_thread\u001B[49m\u001B[43m)\u001B[49m\n",
      "File \u001B[0;32m/snap/pycharm-professional/319/plugins/python/helpers/pydev/pydevd.py:1175\u001B[0m, in \u001B[0;36mPyDB._do_wait_suspend\u001B[0;34m(self, thread, frame, event, arg, suspend_type, from_this_thread)\u001B[0m\n\u001B[1;32m   1172\u001B[0m             \u001B[38;5;28mself\u001B[39m\u001B[38;5;241m.\u001B[39m_call_mpl_hook()\n\u001B[1;32m   1174\u001B[0m         \u001B[38;5;28mself\u001B[39m\u001B[38;5;241m.\u001B[39mprocess_internal_commands()\n\u001B[0;32m-> 1175\u001B[0m         \u001B[43mtime\u001B[49m\u001B[38;5;241;43m.\u001B[39;49m\u001B[43msleep\u001B[49m\u001B[43m(\u001B[49m\u001B[38;5;241;43m0.01\u001B[39;49m\u001B[43m)\u001B[49m\n\u001B[1;32m   1177\u001B[0m \u001B[38;5;28mself\u001B[39m\u001B[38;5;241m.\u001B[39mcancel_async_evaluation(get_current_thread_id(thread), \u001B[38;5;28mstr\u001B[39m(\u001B[38;5;28mid\u001B[39m(frame)))\n\u001B[1;32m   1179\u001B[0m \u001B[38;5;66;03m# process any stepping instructions\u001B[39;00m\n",
      "\u001B[0;31mKeyboardInterrupt\u001B[0m: "
     ]
    }
   ],
   "source": [
    "books[\"train\"][0]"
   ]
  },
  {
   "cell_type": "code",
   "execution_count": 6,
   "metadata": {},
   "outputs": [
    {
     "data": {
      "application/vnd.jupyter.widget-view+json": {
       "model_id": "ae755366f096401db1a35e9a2b23174d",
       "version_major": 2,
       "version_minor": 0
      },
      "text/plain": [
       "Downloading:   0%|          | 0.00/1.21k [00:00<?, ?B/s]"
      ]
     },
     "metadata": {},
     "output_type": "display_data"
    },
    {
     "data": {
      "application/vnd.jupyter.widget-view+json": {
       "model_id": "2e93fba98e5a4c5099a7574b12d67c83",
       "version_major": 2,
       "version_minor": 0
      },
      "text/plain": [
       "Downloading:   0%|          | 0.00/792k [00:00<?, ?B/s]"
      ]
     },
     "metadata": {},
     "output_type": "display_data"
    },
    {
     "data": {
      "application/vnd.jupyter.widget-view+json": {
       "model_id": "0974db75044e45e284efae6d63211ea3",
       "version_major": 2,
       "version_minor": 0
      },
      "text/plain": [
       "Downloading:   0%|          | 0.00/1.39M [00:00<?, ?B/s]"
      ]
     },
     "metadata": {},
     "output_type": "display_data"
    },
    {
     "name": "stderr",
     "output_type": "stream",
     "text": [
      "/home/user/anaconda3/envs/nlp_ex4/lib/python3.10/site-packages/transformers/models/t5/tokenization_t5_fast.py:155: FutureWarning: This tokenizer was incorrectly instantiated with a model max length of 512 which will be corrected in Transformers v5.\n",
      "For now, this behavior is kept to avoid breaking backwards compatibility when padding/encoding with `truncation is True`.\n",
      "- Be aware that you SHOULD NOT rely on t5-small automatically truncating your input to 512 when padding/encoding.\n",
      "- If you want to encode/pad to sequences longer than 512 you can either instantiate this tokenizer with `model_max_length` or pass `max_length` when encoding/padding.\n",
      "- To avoid this warning, please instantiate this tokenizer with `model_max_length` set to your preferred value.\n",
      "  warnings.warn(\n"
     ]
    }
   ],
   "source": [
    "from transformers import AutoTokenizer\n",
    "\n",
    "tokenizer = AutoTokenizer.from_pretrained(\"t5-small\")"
   ]
  },
  {
   "cell_type": "code",
   "execution_count": 7,
   "metadata": {},
   "outputs": [],
   "source": [
    "source_lang = \"en\"\n",
    "target_lang = \"fr\"\n",
    "prefix = \"translate English to French: \"\n",
    "\n",
    "\n",
    "def preprocess_function(examples):\n",
    "    inputs = [prefix + example[source_lang] for example in examples[\"translation\"]]\n",
    "    targets = [example[target_lang] for example in examples[\"translation\"]]\n",
    "    model_inputs = tokenizer(inputs, text_target=targets, max_length=128, truncation=True)\n",
    "    return model_inputs"
   ]
  },
  {
   "cell_type": "code",
   "execution_count": 8,
   "metadata": {},
   "outputs": [
    {
     "data": {
      "application/vnd.jupyter.widget-view+json": {
       "model_id": "b56731cc7fdd4f4a8f0085e49edad4d6",
       "version_major": 2,
       "version_minor": 0
      },
      "text/plain": [
       "  0%|          | 0/82 [00:00<?, ?ba/s]"
      ]
     },
     "metadata": {},
     "output_type": "display_data"
    },
    {
     "data": {
      "application/vnd.jupyter.widget-view+json": {
       "model_id": "e4fe594f6fd949e6bea0b63510978e0e",
       "version_major": 2,
       "version_minor": 0
      },
      "text/plain": [
       "  0%|          | 0/21 [00:00<?, ?ba/s]"
      ]
     },
     "metadata": {},
     "output_type": "display_data"
    }
   ],
   "source": [
    "tokenized_books = books.map(preprocess_function, batched=True)"
   ]
  },
  {
   "cell_type": "code",
   "execution_count": 9,
   "metadata": {},
   "outputs": [
    {
     "data": {
      "application/vnd.jupyter.widget-view+json": {
       "model_id": "d2c514b17ef5412abdc0958aa5fe1176",
       "version_major": 2,
       "version_minor": 0
      },
      "text/plain": [
       "Downloading:   0%|          | 0.00/242M [00:00<?, ?B/s]"
      ]
     },
     "metadata": {},
     "output_type": "display_data"
    }
   ],
   "source": [
    "from transformers import AutoModelForSeq2SeqLM, Seq2SeqTrainingArguments, Seq2SeqTrainer\n",
    "\n",
    "model = AutoModelForSeq2SeqLM.from_pretrained(\"t5-small\")"
   ]
  },
  {
   "cell_type": "code",
   "execution_count": 10,
   "metadata": {},
   "outputs": [],
   "source": [
    "from transformers import DataCollatorForSeq2Seq\n",
    "\n",
    "data_collator = DataCollatorForSeq2Seq(tokenizer=tokenizer, model=model)"
   ]
  },
  {
   "cell_type": "code",
   "execution_count": 11,
   "metadata": {},
   "outputs": [
    {
     "data": {
      "application/vnd.jupyter.widget-view+json": {
       "model_id": "66b1673033644fc0a5e95a8a469c6071",
       "version_major": 2,
       "version_minor": 0
      },
      "text/plain": [
       "Downloading builder script:   0%|          | 0.00/8.15k [00:00<?, ?B/s]"
      ]
     },
     "metadata": {},
     "output_type": "display_data"
    }
   ],
   "source": [
    "import evaluate\n",
    "\n",
    "sacrebleu = evaluate.load(\"sacrebleu\")"
   ]
  },
  {
   "cell_type": "code",
   "execution_count": 12,
   "metadata": {},
   "outputs": [],
   "source": [
    "import numpy as np\n",
    "\n",
    "\n",
    "def postprocess_text(preds, labels):\n",
    "    preds = [pred.strip() for pred in preds]\n",
    "    labels = [[label.strip()] for label in labels]\n",
    "\n",
    "    return preds, labels\n",
    "\n",
    "\n",
    "def compute_metrics(eval_preds):\n",
    "    preds, labels = eval_preds\n",
    "    if isinstance(preds, tuple):\n",
    "        preds = preds[0]\n",
    "    decoded_preds = tokenizer.batch_decode(preds, skip_special_tokens=True)\n",
    "\n",
    "    labels = np.where(labels != -100, labels, tokenizer.pad_token_id)\n",
    "    decoded_labels = tokenizer.batch_decode(labels, skip_special_tokens=True)\n",
    "\n",
    "    decoded_preds, decoded_labels = postprocess_text(decoded_preds, decoded_labels)\n",
    "\n",
    "    result = sacrebleu.compute(predictions=decoded_preds, references=decoded_labels)\n",
    "    result = {\"bleu\": result[\"score\"]}\n",
    "\n",
    "    prediction_lens = [np.count_nonzero(pred != tokenizer.pad_token_id) for pred in preds]\n",
    "    result[\"gen_len\"] = np.mean(prediction_lens)\n",
    "    result = {k: round(v, 4) for k, v in result.items()}\n",
    "    return result"
   ]
  },
  {
   "cell_type": "code",
   "execution_count": 15,
   "metadata": {},
   "outputs": [
    {
     "name": "stderr",
     "output_type": "stream",
     "text": [
      "PyTorch: setting up devices\n",
      "The default value for the training argument `--report_to` will change in v5 (from all installed integrations to none). In v5, you will need to use `--report_to all` to get the same behavior as now. You should start updating your code and make this info disappear :-).\n",
      "Using cuda_amp half precision backend\n",
      "The following columns in the training set don't have a corresponding argument in `T5ForConditionalGeneration.forward` and have been ignored: translation, id. If translation, id are not expected by `T5ForConditionalGeneration.forward`,  you can safely ignore this message.\n",
      "***** Running training *****\n",
      "  Num examples = 81334\n",
      "  Num Epochs = 2\n",
      "  Instantaneous batch size per device = 24\n",
      "  Total train batch size (w. parallel, distributed & accumulation) = 24\n",
      "  Gradient Accumulation steps = 1\n",
      "  Total optimization steps = 6778\n",
      "  Number of trainable parameters = 60506624\n"
     ]
    },
    {
     "data": {
      "text/html": [
       "\n",
       "    <div>\n",
       "      \n",
       "      <progress value='6778' max='6778' style='width:300px; height:20px; vertical-align: middle;'></progress>\n",
       "      [6778/6778 17:37, Epoch 2/2]\n",
       "    </div>\n",
       "    <table border=\"1\" class=\"dataframe\">\n",
       "  <thead>\n",
       " <tr style=\"text-align: left;\">\n",
       "      <th>Epoch</th>\n",
       "      <th>Training Loss</th>\n",
       "      <th>Validation Loss</th>\n",
       "      <th>Bleu</th>\n",
       "      <th>Gen Len</th>\n",
       "    </tr>\n",
       "  </thead>\n",
       "  <tbody>\n",
       "    <tr>\n",
       "      <td>1</td>\n",
       "      <td>1.905400</td>\n",
       "      <td>1.663656</td>\n",
       "      <td>5.259600</td>\n",
       "      <td>17.619800</td>\n",
       "    </tr>\n",
       "    <tr>\n",
       "      <td>2</td>\n",
       "      <td>1.863500</td>\n",
       "      <td>1.642535</td>\n",
       "      <td>5.466500</td>\n",
       "      <td>17.608100</td>\n",
       "    </tr>\n",
       "  </tbody>\n",
       "</table><p>"
      ],
      "text/plain": [
       "<IPython.core.display.HTML object>"
      ]
     },
     "metadata": {},
     "output_type": "display_data"
    },
    {
     "name": "stderr",
     "output_type": "stream",
     "text": [
      "Saving model checkpoint to my_awesome_opus_books_model/checkpoint-500\n",
      "Configuration saved in my_awesome_opus_books_model/checkpoint-500/config.json\n",
      "Model weights saved in my_awesome_opus_books_model/checkpoint-500/pytorch_model.bin\n",
      "tokenizer config file saved in my_awesome_opus_books_model/checkpoint-500/tokenizer_config.json\n",
      "Special tokens file saved in my_awesome_opus_books_model/checkpoint-500/special_tokens_map.json\n",
      "Saving model checkpoint to my_awesome_opus_books_model/checkpoint-1000\n",
      "Configuration saved in my_awesome_opus_books_model/checkpoint-1000/config.json\n",
      "Model weights saved in my_awesome_opus_books_model/checkpoint-1000/pytorch_model.bin\n",
      "tokenizer config file saved in my_awesome_opus_books_model/checkpoint-1000/tokenizer_config.json\n",
      "Special tokens file saved in my_awesome_opus_books_model/checkpoint-1000/special_tokens_map.json\n",
      "Saving model checkpoint to my_awesome_opus_books_model/checkpoint-1500\n",
      "Configuration saved in my_awesome_opus_books_model/checkpoint-1500/config.json\n",
      "Model weights saved in my_awesome_opus_books_model/checkpoint-1500/pytorch_model.bin\n",
      "tokenizer config file saved in my_awesome_opus_books_model/checkpoint-1500/tokenizer_config.json\n",
      "Special tokens file saved in my_awesome_opus_books_model/checkpoint-1500/special_tokens_map.json\n",
      "Saving model checkpoint to my_awesome_opus_books_model/checkpoint-2000\n",
      "Configuration saved in my_awesome_opus_books_model/checkpoint-2000/config.json\n",
      "Model weights saved in my_awesome_opus_books_model/checkpoint-2000/pytorch_model.bin\n",
      "tokenizer config file saved in my_awesome_opus_books_model/checkpoint-2000/tokenizer_config.json\n",
      "Special tokens file saved in my_awesome_opus_books_model/checkpoint-2000/special_tokens_map.json\n",
      "Deleting older checkpoint [my_awesome_opus_books_model/checkpoint-500] due to args.save_total_limit\n",
      "Saving model checkpoint to my_awesome_opus_books_model/checkpoint-2500\n",
      "Configuration saved in my_awesome_opus_books_model/checkpoint-2500/config.json\n",
      "Model weights saved in my_awesome_opus_books_model/checkpoint-2500/pytorch_model.bin\n",
      "tokenizer config file saved in my_awesome_opus_books_model/checkpoint-2500/tokenizer_config.json\n",
      "Special tokens file saved in my_awesome_opus_books_model/checkpoint-2500/special_tokens_map.json\n",
      "Deleting older checkpoint [my_awesome_opus_books_model/checkpoint-1000] due to args.save_total_limit\n",
      "Saving model checkpoint to my_awesome_opus_books_model/checkpoint-3000\n",
      "Configuration saved in my_awesome_opus_books_model/checkpoint-3000/config.json\n",
      "Model weights saved in my_awesome_opus_books_model/checkpoint-3000/pytorch_model.bin\n",
      "tokenizer config file saved in my_awesome_opus_books_model/checkpoint-3000/tokenizer_config.json\n",
      "Special tokens file saved in my_awesome_opus_books_model/checkpoint-3000/special_tokens_map.json\n",
      "Deleting older checkpoint [my_awesome_opus_books_model/checkpoint-1500] due to args.save_total_limit\n",
      "The following columns in the evaluation set don't have a corresponding argument in `T5ForConditionalGeneration.forward` and have been ignored: translation, id. If translation, id are not expected by `T5ForConditionalGeneration.forward`,  you can safely ignore this message.\n",
      "***** Running Evaluation *****\n",
      "  Num examples = 20334\n",
      "  Batch size = 24\n",
      "Saving model checkpoint to my_awesome_opus_books_model/checkpoint-3500\n",
      "Configuration saved in my_awesome_opus_books_model/checkpoint-3500/config.json\n",
      "Model weights saved in my_awesome_opus_books_model/checkpoint-3500/pytorch_model.bin\n",
      "tokenizer config file saved in my_awesome_opus_books_model/checkpoint-3500/tokenizer_config.json\n",
      "Special tokens file saved in my_awesome_opus_books_model/checkpoint-3500/special_tokens_map.json\n",
      "Deleting older checkpoint [my_awesome_opus_books_model/checkpoint-2000] due to args.save_total_limit\n",
      "Saving model checkpoint to my_awesome_opus_books_model/checkpoint-4000\n",
      "Configuration saved in my_awesome_opus_books_model/checkpoint-4000/config.json\n",
      "Model weights saved in my_awesome_opus_books_model/checkpoint-4000/pytorch_model.bin\n",
      "tokenizer config file saved in my_awesome_opus_books_model/checkpoint-4000/tokenizer_config.json\n",
      "Special tokens file saved in my_awesome_opus_books_model/checkpoint-4000/special_tokens_map.json\n",
      "Deleting older checkpoint [my_awesome_opus_books_model/checkpoint-2500] due to args.save_total_limit\n",
      "Saving model checkpoint to my_awesome_opus_books_model/checkpoint-4500\n",
      "Configuration saved in my_awesome_opus_books_model/checkpoint-4500/config.json\n",
      "Model weights saved in my_awesome_opus_books_model/checkpoint-4500/pytorch_model.bin\n",
      "tokenizer config file saved in my_awesome_opus_books_model/checkpoint-4500/tokenizer_config.json\n",
      "Special tokens file saved in my_awesome_opus_books_model/checkpoint-4500/special_tokens_map.json\n",
      "Deleting older checkpoint [my_awesome_opus_books_model/checkpoint-3000] due to args.save_total_limit\n",
      "Saving model checkpoint to my_awesome_opus_books_model/checkpoint-5000\n",
      "Configuration saved in my_awesome_opus_books_model/checkpoint-5000/config.json\n",
      "Model weights saved in my_awesome_opus_books_model/checkpoint-5000/pytorch_model.bin\n",
      "tokenizer config file saved in my_awesome_opus_books_model/checkpoint-5000/tokenizer_config.json\n",
      "Special tokens file saved in my_awesome_opus_books_model/checkpoint-5000/special_tokens_map.json\n",
      "Deleting older checkpoint [my_awesome_opus_books_model/checkpoint-3500] due to args.save_total_limit\n",
      "Saving model checkpoint to my_awesome_opus_books_model/checkpoint-5500\n",
      "Configuration saved in my_awesome_opus_books_model/checkpoint-5500/config.json\n",
      "Model weights saved in my_awesome_opus_books_model/checkpoint-5500/pytorch_model.bin\n",
      "tokenizer config file saved in my_awesome_opus_books_model/checkpoint-5500/tokenizer_config.json\n",
      "Special tokens file saved in my_awesome_opus_books_model/checkpoint-5500/special_tokens_map.json\n",
      "Deleting older checkpoint [my_awesome_opus_books_model/checkpoint-4000] due to args.save_total_limit\n",
      "Saving model checkpoint to my_awesome_opus_books_model/checkpoint-6000\n",
      "Configuration saved in my_awesome_opus_books_model/checkpoint-6000/config.json\n",
      "Model weights saved in my_awesome_opus_books_model/checkpoint-6000/pytorch_model.bin\n",
      "tokenizer config file saved in my_awesome_opus_books_model/checkpoint-6000/tokenizer_config.json\n",
      "Special tokens file saved in my_awesome_opus_books_model/checkpoint-6000/special_tokens_map.json\n",
      "Deleting older checkpoint [my_awesome_opus_books_model/checkpoint-4500] due to args.save_total_limit\n",
      "Saving model checkpoint to my_awesome_opus_books_model/checkpoint-6500\n",
      "Configuration saved in my_awesome_opus_books_model/checkpoint-6500/config.json\n",
      "Model weights saved in my_awesome_opus_books_model/checkpoint-6500/pytorch_model.bin\n",
      "tokenizer config file saved in my_awesome_opus_books_model/checkpoint-6500/tokenizer_config.json\n",
      "Special tokens file saved in my_awesome_opus_books_model/checkpoint-6500/special_tokens_map.json\n",
      "Deleting older checkpoint [my_awesome_opus_books_model/checkpoint-5000] due to args.save_total_limit\n",
      "The following columns in the evaluation set don't have a corresponding argument in `T5ForConditionalGeneration.forward` and have been ignored: translation, id. If translation, id are not expected by `T5ForConditionalGeneration.forward`,  you can safely ignore this message.\n",
      "***** Running Evaluation *****\n",
      "  Num examples = 20334\n",
      "  Batch size = 24\n",
      "\n",
      "\n",
      "Training completed. Do not forget to share your model on huggingface.co/models =)\n",
      "\n",
      "\n"
     ]
    },
    {
     "data": {
      "text/plain": [
       "TrainOutput(global_step=6778, training_loss=1.9125177828602187, metrics={'train_runtime': 1057.1759, 'train_samples_per_second': 153.87, 'train_steps_per_second': 6.411, 'total_flos': 4369550240120832.0, 'train_loss': 1.9125177828602187, 'epoch': 2.0})"
      ]
     },
     "execution_count": 15,
     "metadata": {},
     "output_type": "execute_result"
    }
   ],
   "source": [
    "training_args = Seq2SeqTrainingArguments(\n",
    "    output_dir=\"my_awesome_opus_books_model\",\n",
    "    evaluation_strategy=\"epoch\",\n",
    "    learning_rate=2e-5,\n",
    "    per_device_train_batch_size=24,\n",
    "    per_device_eval_batch_size=24,\n",
    "    weight_decay=0.01,\n",
    "    save_total_limit=3,\n",
    "    num_train_epochs=2,\n",
    "    predict_with_generate=True,\n",
    "    fp16=True,\n",
    "    push_to_hub=False,\n",
    ")\n",
    "\n",
    "trainer = Seq2SeqTrainer(\n",
    "    model=model,\n",
    "    args=training_args,\n",
    "    train_dataset=tokenized_books[\"train\"],\n",
    "    eval_dataset=tokenized_books[\"test\"],\n",
    "    tokenizer=tokenizer,\n",
    "    data_collator=data_collator,\n",
    "    compute_metrics=compute_metrics,\n",
    ")\n",
    "\n",
    "trainer.train()"
   ]
  }
 ],
 "metadata": {
  "kernelspec": {
   "display_name": "Python 3 (ipykernel)",
   "language": "python",
   "name": "python3"
  },
  "language_info": {
   "codemirror_mode": {
    "name": "ipython",
    "version": 3
   },
   "file_extension": ".py",
   "mimetype": "text/x-python",
   "name": "python",
   "nbconvert_exporter": "python",
   "pygments_lexer": "ipython3",
   "version": "3.10.8"
  }
 },
 "nbformat": 4,
 "nbformat_minor": 1
}
