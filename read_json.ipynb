{
 "cells": [
  {
   "cell_type": "code",
   "execution_count": 2,
   "metadata": {
    "collapsed": true
   },
   "outputs": [],
   "source": [
    "import json"
   ]
  },
  {
   "cell_type": "code",
   "execution_count": 3,
   "metadata": {},
   "outputs": [],
   "source": [
    "original_ds = json.load(open('./hw3/data/dependency_parsing_predictions.json'))\n"
   ]
  },
  {
   "cell_type": "code",
   "execution_count": 7,
   "metadata": {},
   "outputs": [],
   "source": [
    "original_ds\n",
    "zipped = list(zip(original_ds['sentences'],original_ds['dependency tree']))"
   ]
  },
  {
   "cell_type": "code",
   "execution_count": 9,
   "metadata": {},
   "outputs": [
    {
     "name": "stdout",
     "output_type": "stream",
     "text": [
      "(['ROOT', 'The', 'second', 'difficulty', 'concerns', 'statistics.'], [-1, 4, 3, 0, 3, 3])\n"
     ]
    }
   ],
   "source": [
    "for idx, val in enumerate(zipped):\n",
    "    if idx == 27:\n",
    "        print(val)\n",
    "        break\n",
    "    # new root (most important word) is 0\n",
    "    # take two words randomely that are in their locations there is the location of the new root\n",
    "    # if there are not at least two choose 1, if there is not 1 chose 0."
   ]
  }
 ],
 "metadata": {
  "kernelspec": {
   "display_name": "Python 3 (ipykernel)",
   "language": "python",
   "name": "python3"
  },
  "language_info": {
   "codemirror_mode": {
    "name": "ipython",
    "version": 3
   },
   "file_extension": ".py",
   "mimetype": "text/x-python",
   "name": "python",
   "nbconvert_exporter": "python",
   "pygments_lexer": "ipython3",
   "version": "3.10.9"
  }
 },
 "nbformat": 4,
 "nbformat_minor": 1
}
